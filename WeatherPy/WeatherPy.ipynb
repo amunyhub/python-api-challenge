{
 "cells": [
  {
   "cell_type": "markdown",
   "metadata": {},
   "source": [
    "# WeatherPy\n",
    "----\n",
    "\n",
    "#### Note\n",
    "* Instructions have been included for each segment. You do not have to follow them exactly, but they are included to help you think through the steps."
   ]
  },
  {
   "cell_type": "code",
   "execution_count": 152,
   "metadata": {
    "scrolled": true
   },
   "outputs": [],
   "source": [
    "# Dependencies and Setup\n",
    "import matplotlib.pyplot as plt\n",
    "import pandas as pd\n",
    "import numpy as np\n",
    "import requests\n",
    "import time\n",
    "from scipy.stats import linregress\n",
    "#remove duplicates in list source: https://www.geeksforgeeks.org/python-difference-of-two-lists-including-duplicates/\n",
    "from collections import Counter \n",
    "\n",
    "# Import API key\n",
    "from config import api_key\n",
    "\n",
    "# Incorporated citipy to determine city based on latitude and longitude\n",
    "from citipy import citipy\n",
    "\n",
    "# Output File (CSV)\n",
    "cities_file = \"cities.csv\"\n",
    "\n",
    "# Range of latitudes and longitudes\n",
    "lat_range = (-90, 90)\n",
    "lng_range = (-180, 180)"
   ]
  },
  {
   "cell_type": "code",
   "execution_count": 113,
   "metadata": {},
   "outputs": [],
   "source": [
    "#look at dataset \n",
    "#cities_df=pd.read_csv(cities_file)\n",
    "#cities_df.head()"
   ]
  },
  {
   "cell_type": "markdown",
   "metadata": {},
   "source": [
    "## Generate Cities List"
   ]
  },
  {
   "cell_type": "code",
   "execution_count": 114,
   "metadata": {
    "scrolled": true
   },
   "outputs": [],
   "source": [
    "# structure for a API Call : http//api.openweathermap.org/data/2.5/weather?lat={lat}&lon={lon}&appid={API key}\n",
    "url=\"http://api.openweathermap.org/data/2.5/weather?\"\n",
    "units = \"metric\"\n",
    "\n",
    "# Build partial query URL\n",
    "query_url=f\"{url}appid={api_key}&units={units}&q=\""
   ]
  },
  {
   "cell_type": "code",
   "execution_count": 137,
   "metadata": {},
   "outputs": [
    {
     "data": {
      "text/plain": [
       "585"
      ]
     },
     "execution_count": 137,
     "metadata": {},
     "output_type": "execute_result"
    }
   ],
   "source": [
    "# List for holding lat_lngs and cities\n",
    "lat_lngs = []\n",
    "cities = []\n",
    "\n",
    "# Create a set of random lat and lng combinations\n",
    "lats = np.random.uniform(lat_range[0], lat_range[1], size=1500)\n",
    "lngs = np.random.uniform(lng_range[0], lng_range[1], size=1500)\n",
    "lat_lngs = zip(lats, lngs)\n",
    "\n",
    "# Identify nearest city for each lat, lng combination\n",
    "for lat_lng in lat_lngs:\n",
    "    city = citipy.nearest_city(lat_lng[0], lat_lng[1]).city_name\n",
    "    \n",
    "    # If the city is unique, then add it to a our cities list\n",
    "    if city not in cities:\n",
    "        cities.append(city)\n",
    "\n",
    "# Print the city count to confirm sufficient count\n",
    "len(cities)"
   ]
  },
  {
   "cell_type": "markdown",
   "metadata": {},
   "source": [
    "### Perform API Calls\n",
    "* Perform a weather check on each city using a series of successive API calls.\n",
    "* Include a print log of each city as it'sbeing processed (with the city number and city name).\n"
   ]
  },
  {
   "cell_type": "code",
   "execution_count": 141,
   "metadata": {},
   "outputs": [
    {
     "name": "stdout",
     "output_type": "stream",
     "text": [
      "Yay!ushuaia with a city id of id 300 was found.\n",
      "Yay!harindanga with a city id of id 721 was found.\n",
      "Yay!coihaique with a city id of id 801 was found.\n",
      "Yay!kruisfontein with a city id of id 800 was found.\n",
      "Yay!albany with a city id of id 803 was found.\n",
      "Yay!mount gambier with a city id of id 804 was found.\n",
      "Yay!altar with a city id of id 800 was found.\n",
      "Yay!mataura with a city id of id 802 was found.\n",
      "Yay!saint-philippe with a city id of id 800 was found.\n",
      "Yay!kushmurun with a city id of id 803 was found.\n",
      "Yay!port elizabeth with a city id of id 802 was found.\n",
      "Yay!ranfurly with a city id of id 800 was found.\n",
      "Yay!severo-kurilsk with a city id of id 804 was found.\n",
      "Yay!aklavik with a city id of id 802 was found.\n",
      "Yay!oranjemund with a city id of id 800 was found.\n",
      "Yay!laguna with a city id of id 804 was found.\n",
      "Yay!tanabe with a city id of id 803 was found.\n",
      "Yay!bluff with a city id of id 804 was found.\n",
      "Yay!airai with a city id of id 500 was found.\n",
      "Yay!jamestown with a city id of id 600 was found.\n",
      "Opps!We could not find umzimvubu.\n",
      "Opps!We could not find taolanaro.\n",
      "Yay!new norfolk with a city id of id 803 was found.\n",
      "Yay!kaitangata with a city id of id 803 was found.\n",
      "Yay!lavrentiya with a city id of id 800 was found.\n",
      "Yay!tuktoyaktuk with a city id of id 801 was found.\n",
      "Yay!tanout with a city id of id 800 was found.\n",
      "Yay!poum with a city id of id 800 was found.\n",
      "Yay!avarua with a city id of id 500 was found.\n",
      "Yay!saskylakh with a city id of id 803 was found.\n",
      "Yay!severnyy-kospashskiy with a city id of id 804 was found.\n",
      "Yay!punta arenas with a city id of id 803 was found.\n",
      "Yay!carnarvon with a city id of id 800 was found.\n",
      "Opps!We could not find sentyabrskiy.\n",
      "Yay!asau with a city id of id 804 was found.\n",
      "Yay!maningrida with a city id of id 804 was found.\n",
      "Yay!saldanha with a city id of id 800 was found.\n",
      "Yay!hermanus with a city id of id 804 was found.\n",
      "Yay!banjar with a city id of id 802 was found.\n",
      "Yay!cherskiy with a city id of id 802 was found.\n",
      "Yay!ust-nera with a city id of id 804 was found.\n",
      "Yay!chokurdakh with a city id of id 804 was found.\n",
      "Yay!georgetown with a city id of id 801 was found.\n",
      "Yay!katsuura with a city id of id 800 was found.\n",
      "Yay!odoyev with a city id of id 600 was found.\n",
      "Opps!We could not find karamay.\n",
      "Yay!tessalit with a city id of id 800 was found.\n",
      "Yay!pangnirtung with a city id of id 800 was found.\n",
      "Yay!sitka with a city id of id 804 was found.\n",
      "Yay!rikitea with a city id of id 804 was found.\n",
      "Yay!saint-georges with a city id of id 802 was found.\n",
      "Yay!bethel with a city id of id 800 was found.\n",
      "Yay!kapaa with a city id of id 803 was found.\n",
      "Opps!We could not find kamenskoye.\n",
      "Yay!tuatapere with a city id of id 800 was found.\n",
      "Yay!longyearbyen with a city id of id 801 was found.\n",
      "Yay!cape town with a city id of id 801 was found.\n",
      "Yay!tiksi with a city id of id 804 was found.\n",
      "Yay!mar del plata with a city id of id 500 was found.\n",
      "Yay!verkhnyaya inta with a city id of id 804 was found.\n",
      "Yay!atuona with a city id of id 800 was found.\n",
      "Yay!nikolskoye with a city id of id 601 was found.\n",
      "Yay!cornelius with a city id of id 800 was found.\n",
      "Yay!castro with a city id of id 804 was found.\n",
      "Yay!aksarka with a city id of id 802 was found.\n",
      "Yay!port hedland with a city id of id 801 was found.\n",
      "Yay!tura with a city id of id 800 was found.\n",
      "Yay!broome with a city id of id 803 was found.\n",
      "Yay!labuhan with a city id of id 501 was found.\n",
      "Yay!kirensk with a city id of id 802 was found.\n",
      "Yay!guerrero negro with a city id of id 800 was found.\n",
      "Yay!ilo with a city id of id 800 was found.\n",
      "Yay!kasongo-lunda with a city id of id 804 was found.\n",
      "Yay!alihe with a city id of id 600 was found.\n",
      "Yay!ribeira grande with a city id of id 801 was found.\n",
      "Yay!uthal with a city id of id 800 was found.\n",
      "Yay!honningsvag with a city id of id 600 was found.\n",
      "Yay!adrar with a city id of id 800 was found.\n",
      "Yay!lebu with a city id of id 804 was found.\n",
      "Yay!thompson with a city id of id 804 was found.\n",
      "Opps!We could not find illoqqortoormiut.\n",
      "Yay!busselton with a city id of id 800 was found.\n",
      "Yay!vaini with a city id of id 501 was found.\n",
      "Yay!xinqing with a city id of id 600 was found.\n",
      "Yay!maniitsoq with a city id of id 800 was found.\n",
      "Yay!nouakchott with a city id of id 801 was found.\n",
      "Yay!los llanos de aridane with a city id of id 803 was found.\n",
      "Yay!mahebourg with a city id of id 500 was found.\n",
      "Opps!We could not find tumannyy.\n",
      "Yay!hithadhoo with a city id of id 803 was found.\n",
      "Yay!kataysk with a city id of id 804 was found.\n",
      "Yay!bredasdorp with a city id of id 804 was found.\n",
      "Yay!backo gradiste with a city id of id 803 was found.\n",
      "Yay!lucapa with a city id of id 500 was found.\n",
      "Yay!cabo san lucas with a city id of id 800 was found.\n",
      "Opps!We could not find attawapiskat.\n",
      "Yay!nantucket with a city id of id 600 was found.\n",
      "Yay!nanpiao with a city id of id 800 was found.\n",
      "Yay!east london with a city id of id 801 was found.\n",
      "Yay!khatanga with a city id of id 800 was found.\n",
      "Yay!port alfred with a city id of id 800 was found.\n",
      "Yay!dikson with a city id of id 804 was found.\n",
      "Yay!sioux lookout with a city id of id 802 was found.\n",
      "Yay!makakilo city with a city id of id 804 was found.\n",
      "Yay!vidalia with a city id of id 800 was found.\n",
      "Yay!kamenka with a city id of id 804 was found.\n",
      "Yay!salalah with a city id of id 803 was found.\n",
      "Yay!chitral with a city id of id 800 was found.\n",
      "Yay!torbay with a city id of id 300 was found.\n",
      "Yay!tual with a city id of id 804 was found.\n",
      "Yay!victoria with a city id of id 800 was found.\n",
      "Yay!sivas with a city id of id 800 was found.\n",
      "Yay!ostrovnoy with a city id of id 804 was found.\n",
      "Yay!naze with a city id of id 803 was found.\n",
      "Yay!tomatlan with a city id of id 802 was found.\n",
      "Yay!ciudad bolivar with a city id of id 803 was found.\n",
      "Yay!hobart with a city id of id 802 was found.\n",
      "Yay!chapais with a city id of id 600 was found.\n",
      "Opps!We could not find palabuhanratu.\n",
      "Opps!We could not find marcona.\n",
      "Yay!hilo with a city id of id 501 was found.\n",
      "Yay!kavaratti with a city id of id 801 was found.\n",
      "Yay!santa fe with a city id of id 800 was found.\n",
      "Yay!carutapera with a city id of id 804 was found.\n",
      "Yay!provideniya with a city id of id 804 was found.\n",
      "Yay!chagoda with a city id of id 804 was found.\n",
      "Yay!camacupa with a city id of id 804 was found.\n",
      "Yay!talnakh with a city id of id 800 was found.\n",
      "Yay!barrow with a city id of id 804 was found.\n",
      "Yay!tias with a city id of id 800 was found.\n",
      "Opps!We could not find vaitupu.\n",
      "Yay!westport with a city id of id 800 was found.\n",
      "Yay!lasa with a city id of id 500 was found.\n",
      "Yay!codrington with a city id of id 804 was found.\n",
      "Yay!kalanwali with a city id of id 800 was found.\n",
      "Yay!saint-augustin with a city id of id 800 was found.\n",
      "Yay!butaritari with a city id of id 804 was found.\n",
      "Yay!tazovskiy with a city id of id 800 was found.\n",
      "Yay!baruun-urt with a city id of id 803 was found.\n",
      "Yay!half moon bay with a city id of id 800 was found.\n",
      "Yay!saint-francois with a city id of id 803 was found.\n",
      "Yay!hasaki with a city id of id 801 was found.\n",
      "Yay!safaga with a city id of id 800 was found.\n",
      "Yay!dothan with a city id of id 800 was found.\n",
      "Yay!soe with a city id of id 501 was found.\n",
      "Yay!ukiah with a city id of id 804 was found.\n",
      "Yay!kroya with a city id of id 501 was found.\n",
      "Yay!sharkan with a city id of id 600 was found.\n",
      "Yay!surt with a city id of id 800 was found.\n",
      "Yay!kavieng with a city id of id 500 was found.\n",
      "Yay!yellowknife with a city id of id 801 was found.\n",
      "Yay!baherden with a city id of id 804 was found.\n",
      "Yay!acapulco with a city id of id 803 was found.\n",
      "Yay!raga with a city id of id 803 was found.\n",
      "Yay!ponta do sol with a city id of id 803 was found.\n",
      "Yay!koulamoutou with a city id of id 804 was found.\n",
      "Yay!klaksvik with a city id of id 803 was found.\n",
      "Yay!akyab with a city id of id 800 was found.\n",
      "Yay!svetlogorsk with a city id of id 804 was found.\n",
      "Yay!george with a city id of id 800 was found.\n",
      "Yay!kudinovo with a city id of id 600 was found.\n",
      "Yay!vostok with a city id of id 804 was found.\n",
      "Yay!qaanaaq with a city id of id 800 was found.\n",
      "Yay!mount isa with a city id of id 803 was found.\n",
      "Yay!kupino with a city id of id 804 was found.\n",
      "Yay!garowe with a city id of id 800 was found.\n",
      "Yay!sorland with a city id of id 800 was found.\n",
      "Yay!port blair with a city id of id 803 was found.\n",
      "Yay!hirado with a city id of id 800 was found.\n",
      "Yay!esperance with a city id of id 800 was found.\n",
      "Yay!walvis bay with a city id of id 803 was found.\n",
      "Yay!rundu with a city id of id 500 was found.\n"
     ]
    },
    {
     "name": "stdout",
     "output_type": "stream",
     "text": [
      "Yay!tasiilaq with a city id of id 803 was found.\n",
      "Yay!bridgend with a city id of id 804 was found.\n",
      "Yay!palmer with a city id of id 801 was found.\n",
      "Yay!teknaf with a city id of id 800 was found.\n",
      "Yay!sao joao da barra with a city id of id 800 was found.\n",
      "Yay!korla with a city id of id 800 was found.\n",
      "Yay!puerto ayora with a city id of id 500 was found.\n",
      "Yay!asbury park with a city id of id 801 was found.\n",
      "Yay!yumen with a city id of id 800 was found.\n",
      "Yay!port hardy with a city id of id 500 was found.\n",
      "Yay!hualmay with a city id of id 800 was found.\n",
      "Yay!lorengau with a city id of id 804 was found.\n",
      "Yay!taoudenni with a city id of id 800 was found.\n",
      "Yay!wasilla with a city id of id 804 was found.\n",
      "Yay!taywarah with a city id of id 800 was found.\n",
      "Yay!mokhsogollokh with a city id of id 804 was found.\n",
      "Yay!juneau with a city id of id 600 was found.\n",
      "Yay!sao filipe with a city id of id 803 was found.\n",
      "Yay!sasykoli with a city id of id 804 was found.\n",
      "Yay!vila franca do campo with a city id of id 801 was found.\n",
      "Yay!kisangani with a city id of id 804 was found.\n",
      "Yay!hilton head island with a city id of id 800 was found.\n",
      "Yay!timizart with a city id of id 800 was found.\n",
      "Yay!leh with a city id of id 801 was found.\n",
      "Yay!bundaberg with a city id of id 803 was found.\n",
      "Yay!kokopo with a city id of id 804 was found.\n",
      "Yay!lagoa with a city id of id 800 was found.\n",
      "Yay!flinders with a city id of id 500 was found.\n",
      "Yay!sept-iles with a city id of id 800 was found.\n",
      "Opps!We could not find belushya guba.\n",
      "Opps!We could not find fort saint john.\n",
      "Yay!blantyre with a city id of id 500 was found.\n",
      "Yay!camacha with a city id of id 803 was found.\n",
      "Yay!rawson with a city id of id 802 was found.\n",
      "Yay!kaeo with a city id of id 801 was found.\n",
      "Yay!havoysund with a city id of id 600 was found.\n",
      "Opps!We could not find nizhneyansk.\n",
      "Yay!morondava with a city id of id 804 was found.\n",
      "Yay!manica with a city id of id 800 was found.\n",
      "Yay!urdoma with a city id of id 804 was found.\n",
      "Yay!kuchaman with a city id of id 800 was found.\n",
      "Yay!faya with a city id of id 800 was found.\n",
      "Yay!gaillac with a city id of id 803 was found.\n",
      "Yay!athabasca with a city id of id 800 was found.\n",
      "Yay!longkou with a city id of id 800 was found.\n",
      "Yay!fortuna with a city id of id 802 was found.\n",
      "Yay!srednekolymsk with a city id of id 804 was found.\n",
      "Yay!khorosheve with a city id of id 601 was found.\n",
      "Yay!seymchan with a city id of id 804 was found.\n",
      "Yay!nago with a city id of id 803 was found.\n",
      "Yay!porto santo with a city id of id 803 was found.\n",
      "Yay!swift current with a city id of id 600 was found.\n",
      "Yay!pevek with a city id of id 800 was found.\n",
      "Yay!college with a city id of id 803 was found.\n",
      "Yay!pimentel with a city id of id 803 was found.\n",
      "Yay!latung with a city id of id 804 was found.\n",
      "Yay!bengkulu with a city id of id 500 was found.\n",
      "Yay!isangel with a city id of id 801 was found.\n",
      "Yay!adre with a city id of id 800 was found.\n",
      "Yay!plettenberg bay with a city id of id 800 was found.\n",
      "Opps!We could not find saleaula.\n",
      "Yay!bucerias with a city id of id 801 was found.\n",
      "Yay!prabumulih with a city id of id 500 was found.\n",
      "Opps!We could not find mahadday weyne.\n",
      "Yay!broken hill with a city id of id 800 was found.\n",
      "Yay!comodoro rivadavia with a city id of id 802 was found.\n",
      "Yay!cimislia with a city id of id 803 was found.\n",
      "Yay!norman wells with a city id of id 801 was found.\n",
      "Yay!bolobo with a city id of id 501 was found.\n",
      "Yay!notre-dame-de-gravenchon with a city id of id 802 was found.\n",
      "Opps!We could not find tuysarkan.\n",
      "Opps!We could not find grand river south east.\n",
      "Yay!santa helena with a city id of id 501 was found.\n",
      "Yay!yar-sale with a city id of id 801 was found.\n",
      "Opps!We could not find barentsburg.\n",
      "Yay!lerwick with a city id of id 801 was found.\n",
      "Yay!dawlatabad with a city id of id 800 was found.\n",
      "Yay!bubaque with a city id of id 800 was found.\n",
      "Yay!atar with a city id of id 800 was found.\n",
      "Yay!tilichiki with a city id of id 803 was found.\n",
      "Yay!puyang with a city id of id 800 was found.\n",
      "Yay!nuevitas with a city id of id 802 was found.\n",
      "Opps!We could not find amderma.\n",
      "Yay!luderitz with a city id of id 800 was found.\n",
      "Yay!arraial do cabo with a city id of id 800 was found.\n",
      "Yay!stabat with a city id of id 701 was found.\n",
      "Yay!vardo with a city id of id 600 was found.\n",
      "Yay!caucaia with a city id of id 800 was found.\n",
      "Yay!nyurba with a city id of id 803 was found.\n",
      "Yay!touros with a city id of id 801 was found.\n",
      "Yay!kirakira with a city id of id 804 was found.\n",
      "Yay!tabou with a city id of id 803 was found.\n",
      "Opps!We could not find lalomanu.\n",
      "Opps!We could not find tsihombe.\n",
      "Yay!chuy with a city id of id 800 was found.\n",
      "Yay!geilo with a city id of id 800 was found.\n",
      "Yay!nanortalik with a city id of id 804 was found.\n",
      "Yay!solnechnyy with a city id of id 804 was found.\n",
      "Yay!boa vista with a city id of id 803 was found.\n",
      "Yay!lakes entrance with a city id of id 803 was found.\n",
      "Yay!sragen with a city id of id 804 was found.\n",
      "Yay!lazaro cardenas with a city id of id 804 was found.\n",
      "Yay!san patricio with a city id of id 803 was found.\n",
      "Yay!kodiak with a city id of id 803 was found.\n",
      "Yay!jacqueville with a city id of id 801 was found.\n",
      "Yay!talcahuano with a city id of id 500 was found.\n",
      "Yay!aitape with a city id of id 501 was found.\n",
      "Yay!sulphur springs with a city id of id 802 was found.\n",
      "Yay!pisco with a city id of id 800 was found.\n",
      "Yay!bogorodskoye with a city id of id 804 was found.\n",
      "Yay!thessalon with a city id of id 803 was found.\n",
      "Yay!bambous virieux with a city id of id 500 was found.\n",
      "Yay!sharjah with a city id of id 800 was found.\n",
      "Opps!We could not find rungata.\n",
      "Yay!barao de melgaco with a city id of id 802 was found.\n",
      "Yay!bara with a city id of id 800 was found.\n",
      "Yay!dyurtyuli with a city id of id 601 was found.\n",
      "Opps!We could not find karauzyak.\n",
      "Yay!saint george with a city id of id 804 was found.\n",
      "Yay!cidreira with a city id of id 804 was found.\n",
      "Opps!We could not find dzhusaly.\n",
      "Yay!shingu with a city id of id 800 was found.\n",
      "Yay!ponnani with a city id of id 721 was found.\n",
      "Yay!roald with a city id of id 601 was found.\n",
      "Yay!sao gabriel da cachoeira with a city id of id 803 was found.\n",
      "Yay!jinchang with a city id of id 802 was found.\n",
      "Yay!orel-izumrud with a city id of id 801 was found.\n",
      "Yay!dhidhdhoo with a city id of id 800 was found.\n",
      "Yay!la ronge with a city id of id 804 was found.\n",
      "Yay!beloha with a city id of id 802 was found.\n",
      "Yay!presidencia roque saenz pena with a city id of id 803 was found.\n",
      "Yay!sechura with a city id of id 800 was found.\n",
      "Yay!shihezi with a city id of id 804 was found.\n",
      "Yay!souillac with a city id of id 500 was found.\n",
      "Yay!lebrija with a city id of id 804 was found.\n",
      "Yay!panzhihua with a city id of id 800 was found.\n",
      "Yay!constitucion with a city id of id 500 was found.\n",
      "Yay!vanavara with a city id of id 802 was found.\n",
      "Yay!ancud with a city id of id 800 was found.\n",
      "Yay!barentu with a city id of id 801 was found.\n",
      "Yay!honiton with a city id of id 804 was found.\n",
      "Yay!bhainsdehi with a city id of id 803 was found.\n",
      "Yay!san angelo with a city id of id 800 was found.\n",
      "Opps!We could not find bur gabo.\n",
      "Yay!svetlaya with a city id of id 600 was found.\n",
      "Yay!kichera with a city id of id 802 was found.\n",
      "Yay!nouna with a city id of id 800 was found.\n",
      "Yay!jackson with a city id of id 802 was found.\n",
      "Yay!el cope with a city id of id 801 was found.\n",
      "Yay!quepos with a city id of id 802 was found.\n",
      "Yay!pimenta bueno with a city id of id 500 was found.\n",
      "Yay!mandalgovi with a city id of id 803 was found.\n",
      "Yay!namibe with a city id of id 802 was found.\n",
      "Yay!durban with a city id of id 804 was found.\n",
      "Yay!arman with a city id of id 801 was found.\n",
      "Yay!iqaluit with a city id of id 601 was found.\n",
      "Yay!nelson bay with a city id of id 804 was found.\n",
      "Yay!miraflores with a city id of id 803 was found.\n",
      "Yay!ballymena with a city id of id 803 was found.\n",
      "Yay!gat with a city id of id 801 was found.\n",
      "Yay!bathsheba with a city id of id 801 was found.\n",
      "Yay!navahrudak with a city id of id 804 was found.\n",
      "Yay!grindavik with a city id of id 803 was found.\n",
      "Yay!valley city with a city id of id 701 was found.\n",
      "Yay!chernushka with a city id of id 804 was found.\n",
      "Yay!kahului with a city id of id 802 was found.\n",
      "Yay!rossland with a city id of id 600 was found.\n",
      "Yay!victor harbor with a city id of id 804 was found.\n",
      "Yay!biak with a city id of id 804 was found.\n",
      "Yay!ixtapa with a city id of id 801 was found.\n"
     ]
    },
    {
     "name": "stdout",
     "output_type": "stream",
     "text": [
      "Yay!saint-pierre with a city id of id 800 was found.\n",
      "Yay!flin flon with a city id of id 601 was found.\n",
      "Yay!hambantota with a city id of id 804 was found.\n",
      "Yay!kasama with a city id of id 804 was found.\n",
      "Yay!bintulu with a city id of id 802 was found.\n",
      "Yay!solone with a city id of id 802 was found.\n",
      "Yay!mnogovershinnyy with a city id of id 804 was found.\n",
      "Yay!naryan-mar with a city id of id 804 was found.\n",
      "Yay!mayo with a city id of id 804 was found.\n",
      "Yay!geraldton with a city id of id 800 was found.\n",
      "Yay!narsaq with a city id of id 803 was found.\n",
      "Yay!koumac with a city id of id 800 was found.\n",
      "Yay!pacific grove with a city id of id 802 was found.\n",
      "Yay!mosetse with a city id of id 804 was found.\n",
      "Yay!yulara with a city id of id 803 was found.\n",
      "Yay!ekhabi with a city id of id 804 was found.\n",
      "Yay!porbandar with a city id of id 802 was found.\n",
      "Yay!qasigiannguit with a city id of id 801 was found.\n",
      "Yay!bontang with a city id of id 804 was found.\n",
      "Yay!thinadhoo with a city id of id 804 was found.\n",
      "Opps!We could not find afmadu.\n",
      "Yay!suntar with a city id of id 803 was found.\n",
      "Opps!We could not find ust-kamchatsk.\n",
      "Yay!ternate with a city id of id 803 was found.\n",
      "Yay!margate with a city id of id 501 was found.\n",
      "Yay!turukhansk with a city id of id 804 was found.\n",
      "Yay!aguimes with a city id of id 800 was found.\n",
      "Yay!chunoyar with a city id of id 804 was found.\n",
      "Yay!neiafu with a city id of id 500 was found.\n",
      "Yay!abu dhabi with a city id of id 800 was found.\n",
      "Yay!praya with a city id of id 800 was found.\n",
      "Yay!batagay with a city id of id 804 was found.\n",
      "Yay!almeirim with a city id of id 804 was found.\n",
      "Yay!aurangabad with a city id of id 803 was found.\n",
      "Yay!dickinson with a city id of id 800 was found.\n",
      "Yay!bol with a city id of id 800 was found.\n",
      "Yay!sao miguel do araguaia with a city id of id 804 was found.\n",
      "Yay!chumikan with a city id of id 804 was found.\n",
      "Yay!waddan with a city id of id 800 was found.\n",
      "Yay!buchanan with a city id of id 802 was found.\n",
      "Yay!sakakah with a city id of id 800 was found.\n",
      "Yay!ust-omchug with a city id of id 804 was found.\n",
      "Yay!port augusta with a city id of id 804 was found.\n",
      "Yay!lundazi with a city id of id 804 was found.\n",
      "Yay!dongkan with a city id of id 802 was found.\n",
      "Yay!vila velha with a city id of id 801 was found.\n",
      "Yay!clyde river with a city id of id 800 was found.\n",
      "Yay!richards bay with a city id of id 804 was found.\n",
      "Yay!taman with a city id of id 804 was found.\n",
      "Yay!ahipara with a city id of id 800 was found.\n",
      "Yay!inongo with a city id of id 500 was found.\n",
      "Yay!berlevag with a city id of id 600 was found.\n",
      "Yay!yelizovo with a city id of id 804 was found.\n",
      "Yay!viedma with a city id of id 804 was found.\n",
      "Yay!xapuri with a city id of id 803 was found.\n",
      "Yay!laurel with a city id of id 804 was found.\n",
      "Yay!price with a city id of id 800 was found.\n",
      "Yay!bull savanna with a city id of id 802 was found.\n",
      "Opps!We could not find mys shmidta.\n",
      "Yay!faanui with a city id of id 500 was found.\n",
      "Opps!We could not find halalo.\n",
      "Yay!scarborough with a city id of id 804 was found.\n",
      "Yay!chaumont with a city id of id 804 was found.\n",
      "Yay!inhambane with a city id of id 801 was found.\n",
      "Yay!batemans bay with a city id of id 501 was found.\n",
      "Yay!rio grande with a city id of id 803 was found.\n",
      "Yay!beringovskiy with a city id of id 801 was found.\n",
      "Yay!kawalu with a city id of id 804 was found.\n",
      "Yay!requena with a city id of id 800 was found.\n",
      "Yay!hamilton with a city id of id 804 was found.\n",
      "Yay!west bay with a city id of id 802 was found.\n",
      "Yay!fukue with a city id of id 800 was found.\n",
      "Yay!businga with a city id of id 803 was found.\n",
      "Yay!necochea with a city id of id 803 was found.\n",
      "Yay!ruidoso with a city id of id 500 was found.\n",
      "Yay!joshimath with a city id of id 800 was found.\n",
      "Opps!We could not find aflu.\n",
      "Yay!umri with a city id of id 800 was found.\n",
      "Yay!yatou with a city id of id 800 was found.\n",
      "Yay!lagoa nova with a city id of id 803 was found.\n",
      "Yay!santa marta with a city id of id 801 was found.\n",
      "Opps!We could not find ngukurr.\n",
      "Yay!masasi with a city id of id 804 was found.\n",
      "Yay!bluefield with a city id of id 800 was found.\n",
      "Yay!samba with a city id of id 800 was found.\n",
      "Yay!ambilobe with a city id of id 500 was found.\n",
      "Yay!ketchikan with a city id of id 601 was found.\n",
      "Yay!marsh harbour with a city id of id 803 was found.\n",
      "Yay!krasnoselkup with a city id of id 802 was found.\n",
      "Yay!sungairaya with a city id of id 804 was found.\n",
      "Yay!brae with a city id of id 802 was found.\n",
      "Yay!leua with a city id of id 804 was found.\n",
      "Yay!goderich with a city id of id 600 was found.\n",
      "Yay!miri with a city id of id 802 was found.\n",
      "Yay!weligama with a city id of id 804 was found.\n",
      "Yay!alugan with a city id of id 804 was found.\n",
      "Yay!akdepe with a city id of id 804 was found.\n",
      "Yay!dutse with a city id of id 800 was found.\n",
      "Yay!neftcala with a city id of id 804 was found.\n",
      "Yay!vaitape with a city id of id 500 was found.\n",
      "Yay!pontiac with a city id of id 801 was found.\n",
      "Yay!sol-iletsk with a city id of id 600 was found.\n",
      "Yay!itarema with a city id of id 500 was found.\n",
      "Yay!sibolga with a city id of id 804 was found.\n",
      "Yay!khandyga with a city id of id 804 was found.\n",
      "Yay!jumla with a city id of id 800 was found.\n",
      "Yay!calvinia with a city id of id 800 was found.\n",
      "Yay!rio gallegos with a city id of id 803 was found.\n",
      "Opps!We could not find bolshoye sorokino.\n",
      "Yay!mehamn with a city id of id 800 was found.\n",
      "Yay!kez with a city id of id 601 was found.\n",
      "Yay!leningradskiy with a city id of id 804 was found.\n",
      "Yay!bukachacha with a city id of id 800 was found.\n",
      "Yay!okhotsk with a city id of id 800 was found.\n",
      "Yay!masterton with a city id of id 801 was found.\n",
      "Yay!agadir with a city id of id 800 was found.\n",
      "Yay!bumba with a city id of id 802 was found.\n",
      "Yay!kenai with a city id of id 803 was found.\n",
      "Yay!fos-sur-mer with a city id of id 800 was found.\n",
      "Yay!zaozerne with a city id of id 804 was found.\n",
      "Yay!kokstad with a city id of id 802 was found.\n",
      "Yay!rincon with a city id of id 800 was found.\n",
      "Yay!pascagoula with a city id of id 800 was found.\n",
      "Yay!opunake with a city id of id 800 was found.\n",
      "Opps!We could not find barawe.\n",
      "Yay!tiznit with a city id of id 800 was found.\n",
      "Opps!We could not find samusu.\n",
      "Yay!hauknes with a city id of id 801 was found.\n",
      "Yay!puerto escondido with a city id of id 802 was found.\n",
      "Yay!elmira with a city id of id 600 was found.\n",
      "Yay!bilibino with a city id of id 801 was found.\n",
      "Yay!key largo with a city id of id 804 was found.\n",
      "Yay!vanimo with a city id of id 501 was found.\n",
      "Yay!ilulissat with a city id of id 801 was found.\n",
      "Yay!libin with a city id of id 804 was found.\n",
      "Yay!te anau with a city id of id 802 was found.\n",
      "Yay!taraz with a city id of id 701 was found.\n",
      "Yay!port-gentil with a city id of id 802 was found.\n",
      "Opps!We could not find meyungs.\n",
      "Yay!vao with a city id of id 804 was found.\n",
      "Yay!haicheng with a city id of id 800 was found.\n",
      "Yay!mushabani with a city id of id 803 was found.\n",
      "Yay!belaya gora with a city id of id 804 was found.\n",
      "Yay!kargasok with a city id of id 800 was found.\n",
      "Yay!teguldet with a city id of id 804 was found.\n",
      "Yay!the valley with a city id of id 801 was found.\n",
      "Yay!alofi with a city id of id 502 was found.\n",
      "Yay!yarim with a city id of id 800 was found.\n",
      "Yay!fort portal with a city id of id 802 was found.\n",
      "Yay!knysna with a city id of id 800 was found.\n",
      "Opps!We could not find yakshur-bodya.\n",
      "Yay!quatre cocos with a city id of id 500 was found.\n",
      "Yay!nishihara with a city id of id 801 was found.\n",
      "Yay!ulagan with a city id of id 802 was found.\n",
      "Yay!pangkalanbuun with a city id of id 804 was found.\n",
      "Yay!skjervoy with a city id of id 802 was found.\n",
      "Yay!cam ranh with a city id of id 801 was found.\n",
      "Yay!general roca with a city id of id 801 was found.\n",
      "Yay!henties bay with a city id of id 802 was found.\n",
      "Yay!providencia with a city id of id 802 was found.\n",
      "Opps!We could not find tungkang.\n",
      "Yay!de aar with a city id of id 800 was found.\n",
      "Yay!crotone with a city id of id 741 was found.\n",
      "Yay!mahon with a city id of id 800 was found.\n",
      "Opps!We could not find tabiauea.\n",
      "Yay!jalu with a city id of id 800 was found.\n",
      "Yay!havelock with a city id of id 800 was found.\n",
      "Yay!suda with a city id of id 600 was found.\n",
      "Yay!krasnyy chikoy with a city id of id 804 was found.\n",
      "Yay!mpongwe with a city id of id 804 was found.\n",
      "Yay!edd with a city id of id 800 was found.\n",
      "Yay!fairbanks with a city id of id 802 was found.\n",
      "Opps!We could not find tunxi.\n"
     ]
    },
    {
     "name": "stdout",
     "output_type": "stream",
     "text": [
      "Yay!mizdah with a city id of id 800 was found.\n",
      "Yay!kalemie with a city id of id 802 was found.\n",
      "Yay!goundi with a city id of id 801 was found.\n",
      "Yay!dawson creek with a city id of id 800 was found.\n",
      "Yay!prince rupert with a city id of id 803 was found.\n",
      "Yay!hobyo with a city id of id 801 was found.\n",
      "Yay!taltal with a city id of id 801 was found.\n",
      "Yay!serebriya with a city id of id 804 was found.\n",
      "Opps!We could not find louisbourg.\n",
      "Yay!champerico with a city id of id 802 was found.\n",
      "Yay!tam ky with a city id of id 701 was found.\n",
      "Yay!achit with a city id of id 804 was found.\n",
      "Yay!antalaha with a city id of id 804 was found.\n",
      "Yay!san cristobal with a city id of id 802 was found.\n",
      "Yay!san carlos de bariloche with a city id of id 800 was found.\n",
      "Yay!kloulklubed with a city id of id 803 was found.\n",
      "Yay!bonthe with a city id of id 800 was found.\n",
      "Yay!porto seguro with a city id of id 801 was found.\n",
      "Yay!hami with a city id of id 800 was found.\n",
      "Yay!saint anthony with a city id of id 804 was found.\n",
      "Yay!santa rosalia with a city id of id 804 was found.\n",
      "Yay!gizo with a city id of id 501 was found.\n",
      "Yay!portland with a city id of id 804 was found.\n",
      "Yay!thanh hoa with a city id of id 800 was found.\n",
      "Yay!strai with a city id of id 800 was found.\n",
      "Yay!sibu with a city id of id 802 was found.\n",
      "Yay!kaputa with a city id of id 803 was found.\n",
      "Yay!radaur with a city id of id 800 was found.\n",
      "Yay!jardim with a city id of id 804 was found.\n",
      "Yay!natagaima with a city id of id 801 was found.\n",
      "Yay!komsomolskiy with a city id of id 803 was found.\n",
      "Yay!ponferrada with a city id of id 803 was found.\n",
      "Yay!marica with a city id of id 801 was found.\n",
      "Yay!avera with a city id of id 800 was found.\n",
      "Opps!We could not find shchelyayur.\n",
      "Yay!davila with a city id of id 800 was found.\n",
      "Yay!san martin with a city id of id 800 was found.\n",
      "Yay!upernavik with a city id of id 804 was found.\n",
      "Yay!dingle with a city id of id 804 was found.\n",
      "Yay!kieta with a city id of id 500 was found.\n",
      "Yay!moses lake with a city id of id 804 was found.\n",
      "Yay!freeport with a city id of id 804 was found.\n",
      "Opps!We could not find bolungarvik.\n",
      "Yay!kutum with a city id of id 800 was found.\n",
      "Yay!buin with a city id of id 500 was found.\n",
      "Yay!tevriz with a city id of id 804 was found.\n",
      "Yay!shahdadkot with a city id of id 800 was found.\n",
      "Yay!machado with a city id of id 801 was found.\n",
      "Yay!stornoway with a city id of id 802 was found.\n",
      "Yay!wadi musa with a city id of id 804 was found.\n",
      "Yay!natchitoches with a city id of id 802 was found.\n",
      "Yay!changji with a city id of id 701 was found.\n",
      "Yay!oyem with a city id of id 804 was found.\n",
      "Yay!aden with a city id of id 800 was found.\n",
      "Yay!brufut with a city id of id 800 was found.\n",
      "Yay!susangerd with a city id of id 802 was found.\n",
      "Yay!katangli with a city id of id 804 was found.\n",
      "Yay!yuncheng with a city id of id 804 was found.\n",
      "Yay!agaro with a city id of id 803 was found.\n",
      "Yay!mucurapo with a city id of id 801 was found.\n",
      "Yay!dinguiraye with a city id of id 800 was found.\n",
      "Yay!iwanai with a city id of id 600 was found.\n",
      "Yay!boca do acre with a city id of id 501 was found.\n",
      "Yay!escarcega with a city id of id 804 was found.\n",
      "Opps!We could not find warqla.\n",
      "Yay!sharan with a city id of id 600 was found.\n",
      "Yay!waspan with a city id of id 802 was found.\n",
      "Yay!husavik with a city id of id 803 was found.\n",
      "Yay!umm kaddadah with a city id of id 800 was found.\n",
      "Yay!byron bay with a city id of id 802 was found.\n"
     ]
    }
   ],
   "source": [
    "#testing with smaller list\n",
    "#cities=['London', 'Paris']\n",
    "cities=cities\n",
    "\n",
    "#empty lists to hold response info\n",
    "lat=[]\n",
    "lon=[]\n",
    "cloudiness= []\n",
    "country= []\n",
    "temp=[]\n",
    "date=[]\n",
    "humidity=[]\n",
    "temp=[]\n",
    "wind_speed= []\n",
    "city_id=[]\n",
    "\n",
    "#cities that do not pull\n",
    "bad_cities=[]\n",
    "\n",
    "# Loop through the list of cities and perform a request for data on each\n",
    "for city in cities:\n",
    "    try:\n",
    "        response = requests.get(query_url + city).json()\n",
    "        city_id.append(response['weather'][0]['id'])\n",
    "        #print(f\"Yay!{city} with a city id of id {response['weather'][0]['id']} was found.\")\n",
    "        lat.append(response['coord']['lat'])\n",
    "        lon.append(response['coord']['lon'])\n",
    "        temp.append(response['main']['temp'])\n",
    "        cloudiness.append(response['clouds']['all'])\n",
    "        country.append(response['sys']['country'])\n",
    "        date.append(response['dt'])\n",
    "        humidity.append(response['main']['humidity'])\n",
    "        wind_speed.append(response['wind']['speed'])\n",
    "\n",
    "    except KeyError:\n",
    "       # print(f\"Opps!We could not find {city}.\")\n",
    "        if city not in bad_cities:\n",
    "            bad_cities.append(city)\n",
    "#print(f\"The latitude information received is: {lat}\")\n",
    "#print(f\"The longitude information received is: {lon}\")\n",
    "#print(f\"The temperature information received is: {temp}\") \n",
    "#print(f\"The cloudiness information received is: {cloudiness}\") \n",
    "#print(f\"The country information received is: {country}\") \n",
    "#print(f\"The date information received is: {date}\") \n",
    "#print(f\"The humidity information received is: {humidity}\") \n",
    "#print(f\"The wind speed information received is: {wind_speed}\") \n",
    "\n"
   ]
  },
  {
   "cell_type": "code",
   "execution_count": 154,
   "metadata": {},
   "outputs": [
    {
     "data": {
      "text/plain": [
       "541"
      ]
     },
     "execution_count": 154,
     "metadata": {},
     "output_type": "execute_result"
    }
   ],
   "source": [
    "#clean up cities list to get to 541\n",
    "\n",
    "reduced_cities=list((Counter(cities) - Counter(bad_cities)).elements())\n",
    "len(reduced_cities)\n"
   ]
  },
  {
   "cell_type": "code",
   "execution_count": 176,
   "metadata": {},
   "outputs": [
    {
     "ename": "TypeError",
     "evalue": "unhashable type: 'list'",
     "output_type": "error",
     "traceback": [
      "\u001b[0;31m---------------------------------------------------------------------------\u001b[0m",
      "\u001b[0;31mTypeError\u001b[0m                                 Traceback (most recent call last)",
      "\u001b[0;32m<ipython-input-176-752555348280>\u001b[0m in \u001b[0;36m<module>\u001b[0;34m\u001b[0m\n\u001b[1;32m     20\u001b[0m \u001b[0mweather_df\u001b[0m\u001b[0;34m[\u001b[0m\u001b[0;34m'Humidity'\u001b[0m\u001b[0;34m]\u001b[0m\u001b[0;34m\u001b[0m\u001b[0;34m\u001b[0m\u001b[0m\n\u001b[1;32m     21\u001b[0m \u001b[0;34m\u001b[0m\u001b[0m\n\u001b[0;32m---> 22\u001b[0;31m \u001b[0;32mif\u001b[0m \u001b[0mtemp\u001b[0m \u001b[0;32min\u001b[0m \u001b[0mweather_df\u001b[0m\u001b[0;34m[\u001b[0m\u001b[0;34m'Humidity'\u001b[0m\u001b[0;34m]\u001b[0m \u001b[0;34m>\u001b[0m \u001b[0;36m100\u001b[0m\u001b[0;34m:\u001b[0m\u001b[0;34m\u001b[0m\u001b[0;34m\u001b[0m\u001b[0m\n\u001b[0m\u001b[1;32m     23\u001b[0m     \u001b[0mprint\u001b[0m\u001b[0;34m(\u001b[0m\u001b[0;34m'humidity'\u001b[0m\u001b[0;34m)\u001b[0m\u001b[0;34m\u001b[0m\u001b[0;34m\u001b[0m\u001b[0m\n",
      "\u001b[0;32m/usr/local/anaconda3/lib/python3.8/site-packages/pandas/core/generic.py\u001b[0m in \u001b[0;36m__contains__\u001b[0;34m(self, key)\u001b[0m\n\u001b[1;32m   1719\u001b[0m     \u001b[0;32mdef\u001b[0m \u001b[0m__contains__\u001b[0m\u001b[0;34m(\u001b[0m\u001b[0mself\u001b[0m\u001b[0;34m,\u001b[0m \u001b[0mkey\u001b[0m\u001b[0;34m)\u001b[0m \u001b[0;34m->\u001b[0m \u001b[0mbool_t\u001b[0m\u001b[0;34m:\u001b[0m\u001b[0;34m\u001b[0m\u001b[0;34m\u001b[0m\u001b[0m\n\u001b[1;32m   1720\u001b[0m         \u001b[0;34m\"\"\"True if the key is in the info axis\"\"\"\u001b[0m\u001b[0;34m\u001b[0m\u001b[0;34m\u001b[0m\u001b[0m\n\u001b[0;32m-> 1721\u001b[0;31m         \u001b[0;32mreturn\u001b[0m \u001b[0mkey\u001b[0m \u001b[0;32min\u001b[0m \u001b[0mself\u001b[0m\u001b[0;34m.\u001b[0m\u001b[0m_info_axis\u001b[0m\u001b[0;34m\u001b[0m\u001b[0;34m\u001b[0m\u001b[0m\n\u001b[0m\u001b[1;32m   1722\u001b[0m \u001b[0;34m\u001b[0m\u001b[0m\n\u001b[1;32m   1723\u001b[0m     \u001b[0;34m@\u001b[0m\u001b[0mproperty\u001b[0m\u001b[0;34m\u001b[0m\u001b[0;34m\u001b[0m\u001b[0m\n",
      "\u001b[0;32m/usr/local/anaconda3/lib/python3.8/site-packages/pandas/core/indexes/range.py\u001b[0m in \u001b[0;36m__contains__\u001b[0;34m(self, key)\u001b[0m\n\u001b[1;32m    340\u001b[0m \u001b[0;34m\u001b[0m\u001b[0m\n\u001b[1;32m    341\u001b[0m     \u001b[0;32mdef\u001b[0m \u001b[0m__contains__\u001b[0m\u001b[0;34m(\u001b[0m\u001b[0mself\u001b[0m\u001b[0;34m,\u001b[0m \u001b[0mkey\u001b[0m\u001b[0;34m:\u001b[0m \u001b[0mAny\u001b[0m\u001b[0;34m)\u001b[0m \u001b[0;34m->\u001b[0m \u001b[0mbool\u001b[0m\u001b[0;34m:\u001b[0m\u001b[0;34m\u001b[0m\u001b[0;34m\u001b[0m\u001b[0m\n\u001b[0;32m--> 342\u001b[0;31m         \u001b[0mhash\u001b[0m\u001b[0;34m(\u001b[0m\u001b[0mkey\u001b[0m\u001b[0;34m)\u001b[0m\u001b[0;34m\u001b[0m\u001b[0;34m\u001b[0m\u001b[0m\n\u001b[0m\u001b[1;32m    343\u001b[0m         \u001b[0;32mtry\u001b[0m\u001b[0;34m:\u001b[0m\u001b[0;34m\u001b[0m\u001b[0;34m\u001b[0m\u001b[0m\n\u001b[1;32m    344\u001b[0m             \u001b[0mkey\u001b[0m \u001b[0;34m=\u001b[0m \u001b[0mensure_python_int\u001b[0m\u001b[0;34m(\u001b[0m\u001b[0mkey\u001b[0m\u001b[0;34m)\u001b[0m\u001b[0;34m\u001b[0m\u001b[0;34m\u001b[0m\u001b[0m\n",
      "\u001b[0;31mTypeError\u001b[0m: unhashable type: 'list'"
     ]
    }
   ],
   "source": [
    "#create a dataframe from the lists I created above\n",
    "#\"City ID\": city_id,\n",
    "#\"City\": cites,\n",
    "\n",
    "\n",
    "weather_dict= {\n",
    "    \"City ID\": city_id,\n",
    "    \"City\": reduced_cities,\n",
    "    \"Cloudiness\": cloudiness,\n",
    "    \"Country\": country,\n",
    "    \"Date\": date,\n",
    "    \"Humidity\": humidity,\n",
    "    \"Lat\": lat,\n",
    "    \"Long\": lon,\n",
    "    \"Temp\": temp,\n",
    "    \"Wind Speed\": wind_speed\n",
    "}\n",
    "\n",
    "weather_df=pd.DataFrame(weather_dict)\n",
    "weather_df['Humidity']\n",
    "\n"
   ]
  },
  {
   "cell_type": "markdown",
   "metadata": {},
   "source": [
    "### Convert Raw Data to DataFrame\n",
    "* Export the city data into a .csv.\n",
    "* Display the DataFrame"
   ]
  },
  {
   "cell_type": "code",
   "execution_count": 166,
   "metadata": {},
   "outputs": [],
   "source": [
    "weather_df.to_csv(r'weather_data.csv')"
   ]
  },
  {
   "cell_type": "markdown",
   "metadata": {},
   "source": [
    "## Inspect the data and remove the cities where the humidity > 100%.\n",
    "----\n",
    "Skip this step if there are no cities that have humidity > 100%. "
   ]
  },
  {
   "cell_type": "code",
   "execution_count": 182,
   "metadata": {},
   "outputs": [
    {
     "name": "stdout",
     "output_type": "stream",
     "text": [
      "[]\n",
      "Guess what? You have no humdity over 100! Phew!\n"
     ]
    }
   ],
   "source": [
    "#  Get the indices of cities that have humidity over 100%.\n",
    "humidity_high = weather_df[weather_df['Humidity']>100].index.tolist() \n",
    "print(humidity_high)\n",
    "print(\"Guess what? You have no humdity over 100! Phew!\")"
   ]
  },
  {
   "cell_type": "code",
   "execution_count": null,
   "metadata": {},
   "outputs": [],
   "source": [
    "# Make a new DataFrame equal to the city data to drop all humidity outliers by index.\n",
    "# Passing \"inplace=False\" will make a copy of the city_data DataFrame, which we call \"clean_city_data\".\n"
   ]
  },
  {
   "cell_type": "markdown",
   "metadata": {},
   "source": [
    "## Plotting the Data\n",
    "* Use proper labeling of the plots using plot titles (including date of analysis) and axes labels.\n",
    "* Save the plotted figures as .pngs."
   ]
  },
  {
   "cell_type": "markdown",
   "metadata": {},
   "source": [
    "## Latitude vs. Temperature Plot"
   ]
  },
  {
   "cell_type": "code",
   "execution_count": 190,
   "metadata": {
    "scrolled": true
   },
   "outputs": [
    {
     "data": {
      "image/png": "[encoded data removed]",
      "text/plain": [
       "<Figure size 432x288 with 1 Axes>"
      ]
     },
     "metadata": {
      "needs_background": "light"
     },
     "output_type": "display_data"
    }
   ],
   "source": [
    "x_values=weather_df['Lat']\n",
    "y_values=weather_df['Temp']\n",
    "plt.scatter(x_values,y_values)\n",
    "plt.xlabel('Latitude')\n",
    "plt.ylabel('Temperature')\n",
    "plt.title('Latitude vs. Temperature')\n",
    "plt.show()\n",
    "#Print(add a sentence here)"
   ]
  },
  {
   "cell_type": "markdown",
   "metadata": {},
   "source": [
    "## Latitude vs. Humidity Plot"
   ]
  },
  {
   "cell_type": "code",
   "execution_count": 189,
   "metadata": {},
   "outputs": [
    {
     "data": {
      "image/png": "[encoded data removed]",
      "text/plain": [
       "<Figure size 432x288 with 1 Axes>"
      ]
     },
     "metadata": {
      "needs_background": "light"
     },
     "output_type": "display_data"
    }
   ],
   "source": [
    "x_values=weather_df['Lat']\n",
    "y_values=weather_df['Humidity']\n",
    "plt.scatter(x_values,y_values)\n",
    "plt.xlabel('Latitude')\n",
    "plt.ylabel('Humidity')\n",
    "plt.title('Latitude vs. Humidity')\n",
    "plt.show()\n",
    "#Print(add a sentence here)"
   ]
  },
  {
   "cell_type": "markdown",
   "metadata": {},
   "source": [
    "## Latitude vs. Cloudiness Plot"
   ]
  },
  {
   "cell_type": "code",
   "execution_count": 191,
   "metadata": {},
   "outputs": [
    {
     "data": {
      "image/png": "[encoded data removed]",
      "text/plain": [
       "<Figure size 432x288 with 1 Axes>"
      ]
     },
     "metadata": {
      "needs_background": "light"
     },
     "output_type": "display_data"
    }
   ],
   "source": [
    "x_values=weather_df['Lat']\n",
    "y_values=weather_df['Cloudiness']\n",
    "plt.scatter(x_values,y_values)\n",
    "plt.xlabel('Latitude')\n",
    "plt.ylabel('Cloudiness')\n",
    "plt.title('Latitude vs. Cloudiness')\n",
    "plt.show()\n",
    "#Print(add a sentence here)"
   ]
  },
  {
   "cell_type": "markdown",
   "metadata": {},
   "source": [
    "## Latitude vs. Wind Speed Plot"
   ]
  },
  {
   "cell_type": "code",
   "execution_count": 186,
   "metadata": {},
   "outputs": [
    {
     "data": {
      "image/png": "[encoded data removed]",
      "text/plain": [
       "<Figure size 432x288 with 1 Axes>"
      ]
     },
     "metadata": {
      "needs_background": "light"
     },
     "output_type": "display_data"
    }
   ],
   "source": [
    "x_values=weather_df['Lat']\n",
    "y_values=weather_df['Wind Speed']\n",
    "plt.scatter(x_values,y_values)\n",
    "plt.xlabel('Latitude')\n",
    "plt.ylabel('Wind Speed')\n",
    "plt.title('Latitude vs. Wind Speed')\n",
    "plt.show()\n",
    "#Print(add a sentence here)"
   ]
  },
  {
   "cell_type": "markdown",
   "metadata": {},
   "source": [
    "## Linear Regression"
   ]
  },
  {
   "cell_type": "code",
   "execution_count": 187,
   "metadata": {},
   "outputs": [
    {
     "data": {
      "image/png": "[encoded data removed]",
      "text/plain": [
       "<Figure size 432x288 with 1 Axes>"
      ]
     },
     "metadata": {
      "needs_background": "light"
     },
     "output_type": "display_data"
    }
   ],
   "source": [
    "x_values=weather_df['Lat']\n",
    "y_values=weather_df['Temp']\n",
    "plt.scatter(x_values,y_values)\n",
    "plt.xlabel('Latitude')\n",
    "plt.ylabel('Temp')\n",
    "plt.show()\n",
    "#Print(add a sentence here)"
   ]
  },
  {
   "cell_type": "markdown",
   "metadata": {},
   "source": [
    "####  Northern Hemisphere - Max Temp vs. Latitude Linear Regression"
   ]
  },
  {
   "cell_type": "code",
   "execution_count": null,
   "metadata": {},
   "outputs": [],
   "source": [
    "#options, binning\n",
    "\n",
    "north_x_values=weather_df['Lat']\n",
    "north_y_values=weather_df['Temp']\n",
    "plt.scatter(north_x_values,north_y_values)\n",
    "plt.xlabel('Latitude')\n",
    "plt.ylabel('Temperature')\n",
    "plt.title('Latitude vs. Temperature')\n",
    "plt.show()\n",
    "#Print(add a sentence here)"
   ]
  },
  {
   "cell_type": "markdown",
   "metadata": {},
   "source": [
    "####  Southern Hemisphere - Max Temp vs. Latitude Linear Regression"
   ]
  },
  {
   "cell_type": "code",
   "execution_count": null,
   "metadata": {},
   "outputs": [],
   "source": []
  },
  {
   "cell_type": "markdown",
   "metadata": {},
   "source": [
    "####  Northern Hemisphere - Humidity (%) vs. Latitude Linear Regression"
   ]
  },
  {
   "cell_type": "code",
   "execution_count": null,
   "metadata": {},
   "outputs": [],
   "source": []
  },
  {
   "cell_type": "markdown",
   "metadata": {},
   "source": [
    "####  Southern Hemisphere - Humidity (%) vs. Latitude Linear Regression"
   ]
  },
  {
   "cell_type": "code",
   "execution_count": null,
   "metadata": {},
   "outputs": [],
   "source": []
  },
  {
   "cell_type": "markdown",
   "metadata": {},
   "source": [
    "####  Northern Hemisphere - Cloudiness (%) vs. Latitude Linear Regression"
   ]
  },
  {
   "cell_type": "code",
   "execution_count": null,
   "metadata": {},
   "outputs": [],
   "source": []
  },
  {
   "cell_type": "markdown",
   "metadata": {},
   "source": [
    "####  Southern Hemisphere - Cloudiness (%) vs. Latitude Linear Regression"
   ]
  },
  {
   "cell_type": "code",
   "execution_count": null,
   "metadata": {},
   "outputs": [],
   "source": []
  },
  {
   "cell_type": "markdown",
   "metadata": {},
   "source": [
    "####  Northern Hemisphere - Wind Speed (mph) vs. Latitude Linear Regression"
   ]
  },
  {
   "cell_type": "code",
   "execution_count": null,
   "metadata": {},
   "outputs": [],
   "source": []
  },
  {
   "cell_type": "markdown",
   "metadata": {},
   "source": [
    "####  Southern Hemisphere - Wind Speed (mph) vs. Latitude Linear Regression"
   ]
  },
  {
   "cell_type": "code",
   "execution_count": null,
   "metadata": {},
   "outputs": [],
   "source": []
  },
  {
   "cell_type": "code",
   "execution_count": null,
   "metadata": {},
   "outputs": [],
   "source": []
  }
 ],
 "metadata": {
  "anaconda-cloud": {},
  "kernel_info": {
   "name": "python3"
  },
  "kernelspec": {
   "display_name": "Python 3",
   "language": "python",
   "name": "python3"
  },
  "language_info": {
   "codemirror_mode": {
    "name": "ipython",
    "version": 3
   },
   "file_extension": ".py",
   "mimetype": "text/x-python",
   "name": "python",
   "nbconvert_exporter": "python",
   "pygments_lexer": "ipython3",
   "version": "3.8.5"
  },
  "latex_envs": {
   "LaTeX_envs_menu_present": true,
   "autoclose": false,
   "autocomplete": true,
   "bibliofile": "biblio.bib",
   "cite_by": "apalike",
   "current_citInitial": 1,
   "eqLabelWithNumbers": true,
   "eqNumInitial": 1,
   "hotkeys": {
    "equation": "Ctrl-E",
    "itemize": "Ctrl-I"
   },
   "labels_anchors": false,
   "latex_user_defs": false,
   "report_style_numbering": false,
   "user_envs_cfg": false
  },
  "nteract": {
   "version": "0.12.3"
  }
 },
 "nbformat": 4,
 "nbformat_minor": 2
}
